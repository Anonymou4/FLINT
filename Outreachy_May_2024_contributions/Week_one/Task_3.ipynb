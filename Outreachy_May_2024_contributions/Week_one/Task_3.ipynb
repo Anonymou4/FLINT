{
 "cells": [
  {
   "cell_type": "code",
   "execution_count": null,
   "id": "16147c7e",
   "metadata": {},
   "outputs": [],
   "source": [
    "import ee\n",
    "import geemap\n",
    "\n",
    "ee.Initialize()\n",
    "\n",
    "studyArea = ee.Geometry.Rectangle([xmin, ymin, xmax, ymax])\n",
    "\n",
    "# Load Global Forest Change dataset and select relevant bands within the study area.\n",
    "gfc = ee.Image('UMD/hansen/global_forest_change_2020_v1_8') \\\n",
    "        .select(['loss', 'gain', 'treecover2000']) \\\n",
    "        .clip(studyArea)\n",
    "\n",
    "# Identify forested areas with more than 30% tree cover in 2000.\n",
    "forestMask = gfc.select('treecover2000').gt(30)\n",
    "\n",
    "# Apply forest mask to loss and gain to calculate tree cover change only within forested areas.\n",
    "treeCoverLoss = gfc.select('loss').updateMask(forestMask)\n",
    "treeCoverGain = gfc.select('gain').updateMask(forestMask)\n",
    "\n",
    "# Convert binary loss and gain to area (hectares) by multiplying by pixel area and dividing by 10,000 (m² in a hectare).\n",
    "lossArea = treeCoverLoss.multiply(ee.Image.pixelArea()).divide(10000)\n",
    "gainArea = treeCoverGain.multiply(ee.Image.pixelArea()).divide(10000)\n",
    "\n",
    "# Visualization and statistics using Jupyter Notebooks.\n",
    "Map = geemap.Map()\n",
    "Map.addLayer(lossArea, {'min': 0, 'max': 1, 'palette': ['FF0000']}, 'Tree Cover Loss')\n",
    "Map.addLayer(gainArea, {'min': 0, 'max': 1, 'palette': ['00FF00']}, 'Tree Cover Gain')\n",
    "Map\n",
    "\n",
    "# Calculate statistics: total area of tree cover loss and gain within the study area.\n",
    "statsLoss = lossArea.reduceRegion(\n",
    "    reducer=ee.Reducer.sum(),\n",
    "    geometry=studyArea,\n",
    "    scale=30,  # Consider adjusting scale for large areas\n",
    "    maxPixels=1e9\n",
    ")\n",
    "statsGain = gainArea.reduceRegion(\n",
    "    reducer=ee.Reducer.sum(),\n",
    "    geometry=studyArea,\n",
    "    scale=30,  # Consider adjusting scale for large areas\n",
    "    maxPixels=1e9\n",
    ")\n",
    "\n",
    "# print out statistics (without using getInfo for large datasets):\n",
    "loss_area_ha = statsLoss.getInfo()['loss']\n",
    "gain_area_ha = statsGain.getInfo()['gain']\n",
    "print(f'Tree Cover Loss (ha): {loss_area_ha}')\n",
    "print(f'Tree Cover Gain (ha): {gain_area_ha}')"
   ]
  },
  {
   "cell_type": "markdown",
   "id": "4abbfbb1",
   "metadata": {},
   "source": [
    "This script is designed to analyze forest cover changes using the Google Earth Engine (GEE) platform with Python. It focuses on detecting areas of tree cover loss and gain within a specified study area based on the Global Forest Change dataset by Hansen et al. for the year 2020. The script follows these main steps:\n",
    "\n",
    "1. **Initialization**: It begins by importing necessary libraries (`ee` for Earth Engine operations and `geemap` for visualization in a Jupyter Notebook environment) and initializing the Earth Engine API.\n",
    "\n",
    "2. **Study Area Definition**: The study area is defined as a rectangle with given coordinates (xmin, ymin, xmax, ymax). These coordinates should be replaced with the actual coordinates of the desired study area.\n",
    "\n",
    "3. **Data Loading and Selection**: The Global Forest Change dataset is loaded, and relevant bands (`loss`, `gain`, `treecover2000`) are selected and clipped to the study area. The dataset includes data on tree cover loss, gain, and baseline tree cover for the year 2000.\n",
    "\n",
    "4. **Forest Mask Application**: A forest mask is created by thresholding the `treecover2000` band to identify areas with more than 30% tree cover, considering them as forested areas.\n",
    "\n",
    "5. **Tree Cover Change Calculation**: The script calculates areas of tree cover loss and gain within the forested areas by applying the forest mask to the `loss` and `gain` bands. These binary masks are then converted to area measurements (in hectares) by multiplying by the pixel area and dividing by 10,000 (to convert square meters to hectares).\n",
    "\n",
    "6. **Visualization**: Using `geemap`, the script adds layers for tree cover loss and gain to a map for visualization, with loss areas displayed in red (`FF0000`) and gain areas in green (`00FF00`).\n",
    "\n",
    "7. **Statistics Calculation**: It calculates the total area of tree cover loss and gain within the study area using `reduceRegion` with a `sum` reducer. The scale and `maxPixels` parameters are set to accommodate large areas and ensure comprehensive coverage.\n",
    "\n",
    "8. **Output**: Finally, the script prints the calculated total areas of tree cover loss and gain in hectares. Note that `getInfo()` is used for demonstration purposes; in operational scripts, especially those handling large datasets, alternative strategies may be more appropriate to avoid potential memory issues.\n",
    "\n",
    "I think this script provides a powerful yet straightforward means of analyzing forest dynamics, leveraging satellite-based observations to support environmental monitoring, policy-making, and conservation efforts."
   ]
  },
  {
   "cell_type": "markdown",
   "id": "764c1969",
   "metadata": {},
   "source": [
    "**REFERENCES**\n",
    "- [Global Forest Change 2000–2020](https://storage.googleapis.com/earthenginepartners-hansen/GFC-2020-v1.8/download.html)"
   ]
  }
 ],
 "metadata": {
  "kernelspec": {
   "display_name": "Python 3 (ipykernel)",
   "language": "python",
   "name": "python3"
  },
  "language_info": {
   "codemirror_mode": {
    "name": "ipython",
    "version": 3
   },
   "file_extension": ".py",
   "mimetype": "text/x-python",
   "name": "python",
   "nbconvert_exporter": "python",
   "pygments_lexer": "ipython3",
   "version": "3.10.12"
  }
 },
 "nbformat": 4,
 "nbformat_minor": 5
}
